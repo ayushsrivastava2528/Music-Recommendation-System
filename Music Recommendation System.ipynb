{
 "cells": [
  {
   "cell_type": "code",
   "execution_count": 1,
   "id": "02e25120-7ece-4a98-a788-997775a61a19",
   "metadata": {},
   "outputs": [
    {
     "name": "stdout",
     "output_type": "stream",
     "text": [
      "Access token obtained successfully.\n"
     ]
    }
   ],
   "source": [
    "import requests\n",
    "import base64\n",
    "\n",
    "# Replace with your own Client ID and Client Secret\n",
    "CLIENT_ID = 'Enter_Your_Client_Id'\n",
    "CLIENT_SECRET = 'Enter_Your_Client_Secret'\n",
    "\n",
    "# Base64 encode the client ID and client secret\n",
    "client_credentials = f\"{CLIENT_ID}:{CLIENT_SECRET}\"  #the client_id and client_secret are added in the client_credentials\n",
    "client_credentials_base64 = base64.b64encode(client_credentials.encode())  #this client_credential is then secured using base64 encoding\n",
    "\n",
    "# Request the access token\n",
    "token_url = 'https://accounts.spotify.com/api/token'  #post req is send to the url\n",
    "headers = {\n",
    "    'Authorization': f'Basic {client_credentials_base64.decode()}'  # Authorization holds the client credentials, as it is req for client authentication\n",
    "}\n",
    "data = {\n",
    "    'grant_type': 'client_credentials'   # it is set to indicate that the client is requestion for an access token for the client credentials flow\n",
    "}\n",
    "response = requests.post(token_url, data=data, headers=headers)\n",
    "\n",
    "if response.status_code == 200:\n",
    "    access_token = response.json()['access_token']\n",
    "    print(\"Access token obtained successfully.\")\n",
    "else:\n",
    "    print(\"Error obtaining access token.\")\n",
    "    exit()"
   ]
  },
  {
   "cell_type": "code",
   "execution_count": 2,
   "id": "a46b6ff3-2b14-45a4-ae91-282a83215e88",
   "metadata": {},
   "outputs": [],
   "source": [
    "# in the above code client_id and client_secret hold my credentials which uniquel identify the application making request\n",
    "# to our spotify API\n",
    "# with the help of access token now our application can make request for the authorized data about music, album artists and users"
   ]
  },
  {
   "cell_type": "code",
   "execution_count": 3,
   "id": "48e61ecc-938c-4f4e-a4b7-da7238bb9fe4",
   "metadata": {},
   "outputs": [
    {
     "name": "stdout",
     "output_type": "stream",
     "text": [
      "Requirement already satisfied: spotipy in c:\\users\\dell\\anaconda3\\lib\\site-packages (2.24.0)\n",
      "Requirement already satisfied: redis>=3.5.3 in c:\\users\\dell\\anaconda3\\lib\\site-packages (from spotipy) (5.2.0)\n",
      "Requirement already satisfied: requests>=2.25.0 in c:\\users\\dell\\anaconda3\\lib\\site-packages (from spotipy) (2.31.0)\n",
      "Requirement already satisfied: urllib3>=1.26.0 in c:\\users\\dell\\anaconda3\\lib\\site-packages (from spotipy) (2.0.7)\n",
      "Requirement already satisfied: charset-normalizer<4,>=2 in c:\\users\\dell\\anaconda3\\lib\\site-packages (from requests>=2.25.0->spotipy) (2.0.4)\n",
      "Requirement already satisfied: idna<4,>=2.5 in c:\\users\\dell\\anaconda3\\lib\\site-packages (from requests>=2.25.0->spotipy) (3.4)\n",
      "Requirement already satisfied: certifi>=2017.4.17 in c:\\users\\dell\\anaconda3\\lib\\site-packages (from requests>=2.25.0->spotipy) (2024.6.2)\n",
      "Note: you may need to restart the kernel to use updated packages.\n"
     ]
    }
   ],
   "source": [
    "# We will import Spotipy library which is a python lib used to access Spotify web api\n",
    "%pip install spotipy"
   ]
  },
  {
   "cell_type": "code",
   "execution_count": 4,
   "id": "6e16e543-eefe-4601-b09d-3bfd0d91154c",
   "metadata": {},
   "outputs": [],
   "source": [
    "import pandas as pd\n",
    "import spotipy\n",
    "from spotipy.oauth2 import SpotifyOAuth\n",
    "\n",
    "def get_trending_playlist_data(playlist_id, access_token):\n",
    "    # Set up Spotipy with the access token\n",
    "    sp = spotipy.Spotify(auth=access_token)  #initialsed spotipy client to provide access token which serves as an authentication token\n",
    "    # the access_token make an authorized request to access spotify resource.\n",
    "    \n",
    "    # Get the tracks from the playlist\n",
    "    playlist_tracks = sp.playlist_tracks(playlist_id, fields='items(track(id, name, artists, album(id, name)))')\n",
    "    # the sp.plalist_tracks method retrieve the playlist tracks, the fields parameter is used to define the track information such as id, name, artists etc\n",
    "    \n",
    "    # Extract relevant information and store in a list of dictionaries called music_data\n",
    "    music_data = []\n",
    "    for track_info in playlist_tracks['items']:\n",
    "        track = track_info['track']\n",
    "        track_name = track['name']\n",
    "        artists = ', '.join([artist['name'] for artist in track['artists']])\n",
    "        album_name = track['album']['name']\n",
    "        album_id = track['album']['id']\n",
    "        track_id = track['id']\n",
    "\n",
    "        # Get audio features for the track\n",
    "        audio_features = sp.audio_features(track_id)[0] if track_id != 'Not available' else None\n",
    "        # this function uses sp.audio_features in order to extract the audio of each track, this audio feature include features such as dancebility,\n",
    "        # enery, key, loudness etc. These feature provide the insights.\n",
    "\n",
    "        # Get release date of the album\n",
    "        try:\n",
    "            album_info = sp.album(album_id) if album_id != 'Not available' else None\n",
    "            release_date = album_info['release_date'] if album_info else None\n",
    "        except:\n",
    "            release_date = None\n",
    "\n",
    "        # Get popularity of the track\n",
    "        try:\n",
    "            track_info = sp.track(track_id) if track_id != 'Not available' else None\n",
    "            popularity = track_info['popularity'] if track_info else None\n",
    "        except:\n",
    "            popularity = None\n",
    "\n",
    "        # Add additional track information to the track data\n",
    "        track_data = {\n",
    "            'Track Name': track_name,\n",
    "            'Artists': artists,\n",
    "            'Album Name': album_name,\n",
    "            'Album ID': album_id,\n",
    "            'Track ID': track_id,\n",
    "            'Popularity': popularity,\n",
    "            'Release Date': release_date,\n",
    "            'Duration (ms)': audio_features['duration_ms'] if audio_features else None,\n",
    "            'Explicit': track_info.get('explicit', None),\n",
    "            'External URLs': track_info.get('external_urls', {}).get('spotify', None),\n",
    "            'Danceability': audio_features['danceability'] if audio_features else None,\n",
    "            'Energy': audio_features['energy'] if audio_features else None,\n",
    "            'Key': audio_features['key'] if audio_features else None,\n",
    "            'Loudness': audio_features['loudness'] if audio_features else None,\n",
    "            'Mode': audio_features['mode'] if audio_features else None,\n",
    "            'Speechiness': audio_features['speechiness'] if audio_features else None,\n",
    "            'Acousticness': audio_features['acousticness'] if audio_features else None,\n",
    "            'Instrumentalness': audio_features['instrumentalness'] if audio_features else None,\n",
    "            'Liveness': audio_features['liveness'] if audio_features else None,\n",
    "            'Valence': audio_features['valence'] if audio_features else None,\n",
    "            'Tempo': audio_features['tempo'] if audio_features else None,\n",
    "            # Add more attributes as needed\n",
    "        }\n",
    "\n",
    "        music_data.append(track_data)\n",
    "\n",
    "    # Create a pandas DataFrame from the list of dictionaries\n",
    "    df = pd.DataFrame(music_data)\n",
    "\n",
    "    return df"
   ]
  },
  {
   "cell_type": "code",
   "execution_count": 5,
   "id": "fdd0ca46-6278-4e9f-883b-b240151fa064",
   "metadata": {},
   "outputs": [
    {
     "name": "stdout",
     "output_type": "stream",
     "text": [
      "       Track Name                                            Artists  \\\n",
      "0        Bin Tere  Vishal-Shekhar, Shafqat Amanat Ali, Sunidhi Ch...   \n",
      "1  Bin Tere Sanam                 Udit Narayan, Kavita Krishnamurthy   \n",
      "2  Bin Tere Sanam                 Udit Narayan, Kavita Krishnamurthy   \n",
      "3        Isq Risk     Sohail Sen, Rahat Fateh Ali Khan, Irshad Kamil   \n",
      "4        Isq Risk     Sohail Sen, Rahat Fateh Ali Khan, Irshad Kamil   \n",
      "5  Chand Se Parda                                         Kumar Sanu   \n",
      "6  Chand Sifarish    Jatin-Lalit, Shaan, Kailash Kher, Prasoon Joshi   \n",
      "7    Chaand Taare                                           Abhijeet   \n",
      "\n",
      "                                          Album Name                Album ID  \\\n",
      "0  I Hate Luv Storys (Original Motion Picture Sou...  4SPHfSWibeoFCSdR4vd5QL   \n",
      "1  Yaara Dildara (Original Mostion Picture Soundt...  1a8QGPg7O93LqKze9EvfU1   \n",
      "2  Yaara Dildara (Original Mostion Picture Soundt...  1a8QGPg7O93LqKze9EvfU1   \n",
      "3                             Mere Brother Ki Dulhan  6NoosYEOmTm4PNXtDnIktN   \n",
      "4                             Mere Brother Ki Dulhan  6NoosYEOmTm4PNXtDnIktN   \n",
      "5                                     Aao Pyar Karen  77EAr4ZN5L8hJsTNsVUlYb   \n",
      "6                                              Fanaa  2L3NV5Fxjrj6mi59Gs5tUx   \n",
      "7      Yes Boss (Original Motion Picture Soundtrack)  4f0ooiboxVpTb7Y1jI5WH8   \n",
      "\n",
      "                 Track ID  Popularity Release Date  Duration (ms)  Explicit  \\\n",
      "0  3bZPdEskcnMdepwCaDSJRl          63   2010-05-25         330360     False   \n",
      "1  0qukxG69SSFA0n1qyR6szS          54   1993-01-23         390560     False   \n",
      "2  0qukxG69SSFA0n1qyR6szS          54   1993-01-23         390560     False   \n",
      "3  0rxEPf4Y6uBmV3hkrV340a          65   2011-08-09         295079     False   \n",
      "4  0rxEPf4Y6uBmV3hkrV340a          65   2011-08-09         295079     False   \n",
      "5  77E9kDXT7gJIkxUaTPu6Ub          58   1994-11-25         379739     False   \n",
      "6  5EYZZvmNAH5VZCwuzYJqoA          69   2006-04-12         275931     False   \n",
      "7  0898lqIxzKWzUZxb5zT7C9          54   1999-06-18         289373     False   \n",
      "\n",
      "                                       External URLs  ...  Energy  Key  \\\n",
      "0  https://open.spotify.com/track/3bZPdEskcnMdepw...  ...   0.698    9   \n",
      "1  https://open.spotify.com/track/0qukxG69SSFA0n1...  ...   0.838    2   \n",
      "2  https://open.spotify.com/track/0qukxG69SSFA0n1...  ...   0.838    2   \n",
      "3  https://open.spotify.com/track/0rxEPf4Y6uBmV3h...  ...   0.634   10   \n",
      "4  https://open.spotify.com/track/0rxEPf4Y6uBmV3h...  ...   0.634   10   \n",
      "5  https://open.spotify.com/track/77E9kDXT7gJIkxU...  ...   0.909    7   \n",
      "6  https://open.spotify.com/track/5EYZZvmNAH5VZCw...  ...   0.665    2   \n",
      "7  https://open.spotify.com/track/0898lqIxzKWzUZx...  ...   0.444    7   \n",
      "\n",
      "   Loudness  Mode  Speechiness  Acousticness  Instrumentalness  Liveness  \\\n",
      "0    -6.261     1       0.0392         0.420          0.000004    0.3630   \n",
      "1    -8.168     1       0.0406         0.220          0.000009    0.1220   \n",
      "2    -8.168     1       0.0406         0.220          0.000009    0.1220   \n",
      "3    -7.753     0       0.0432         0.122          0.000000    0.1460   \n",
      "4    -7.753     0       0.0432         0.122          0.000000    0.1460   \n",
      "5    -4.445     1       0.0465         0.396          0.000006    0.0569   \n",
      "6    -8.128     1       0.0868         0.242          0.000017    0.1230   \n",
      "7   -14.141     1       0.0456         0.137          0.000001    0.1130   \n",
      "\n",
      "   Valence    Tempo  \n",
      "0    0.621  139.831  \n",
      "1    0.728  138.856  \n",
      "2    0.728  138.856  \n",
      "3    0.944  104.964  \n",
      "4    0.944  104.964  \n",
      "5    0.615  120.323  \n",
      "6    0.861  122.043  \n",
      "7    0.613   91.798  \n",
      "\n",
      "[8 rows x 21 columns]\n"
     ]
    }
   ],
   "source": [
    "playlist_id = '1VuEjhXBa0GvGJf7SvrLiF'\n",
    "\n",
    "# Call the function to get the music data from the playlist and store it in a DataFrame\n",
    "music_df = get_trending_playlist_data(playlist_id, access_token)\n",
    "\n",
    "# Display the DataFrame\n",
    "print(music_df)"
   ]
  },
  {
   "cell_type": "code",
   "execution_count": 6,
   "id": "7864edb5-20a0-4ef1-bb34-8f1f680826fc",
   "metadata": {},
   "outputs": [],
   "source": [
    "# in the above code snippet we used the playlist id as 37i9dQZF1DX76Wlfdnj7AP\n",
    "# the code call get_trending_playlist_data function as defined above \n",
    "# the collected data is stored in the dataframe called music_df "
   ]
  },
  {
   "cell_type": "code",
   "execution_count": 7,
   "id": "977bebca-2d39-402f-abf4-8809516967cc",
   "metadata": {},
   "outputs": [
    {
     "name": "stdout",
     "output_type": "stream",
     "text": [
      "Track Name          0\n",
      "Artists             0\n",
      "Album Name          0\n",
      "Album ID            0\n",
      "Track ID            0\n",
      "Popularity          0\n",
      "Release Date        0\n",
      "Duration (ms)       0\n",
      "Explicit            0\n",
      "External URLs       0\n",
      "Danceability        0\n",
      "Energy              0\n",
      "Key                 0\n",
      "Loudness            0\n",
      "Mode                0\n",
      "Speechiness         0\n",
      "Acousticness        0\n",
      "Instrumentalness    0\n",
      "Liveness            0\n",
      "Valence             0\n",
      "Tempo               0\n",
      "dtype: int64\n"
     ]
    }
   ],
   "source": [
    "# checking if our data has null value or not\n",
    "print(music_df.isnull().sum())"
   ]
  },
  {
   "cell_type": "code",
   "execution_count": 8,
   "id": "e1838073-adeb-443e-bfb3-f63cca7da054",
   "metadata": {},
   "outputs": [],
   "source": [
    "# Importing ncessary liraries\n",
    "import pandas as pd\n",
    "import numpy as np\n",
    "from sklearn.model_selection import train_test_split\n",
    "from sklearn.preprocessing import MinMaxScaler\n",
    "from datetime import datetime\n",
    "from sklearn.metrics.pairwise import cosine_similarity\n",
    "\n",
    "data = music_df"
   ]
  },
  {
   "cell_type": "code",
   "execution_count": 9,
   "id": "5cc98a92-2376-4d32-af51-7db4015ea86b",
   "metadata": {},
   "outputs": [],
   "source": [
    "# while building a music recommendation system it is important to provide user with the recent release so uilding a fun for that"
   ]
  },
  {
   "cell_type": "code",
   "execution_count": 10,
   "id": "248901ef-cd41-42f7-9a3d-eb08e7423825",
   "metadata": {},
   "outputs": [],
   "source": [
    "# Function to calculate weighted popularity scores based on release date\n",
    "def calculate_weighted_popularity(release_date):\n",
    "    # Convert the release date to datetime object\n",
    "    release_date = datetime.strptime(release_date, '%Y-%m-%d') # release date is taken as an input in YYYY-MM-DD\n",
    "    # it used datetime.strptime from python datetime module to convert release date string to datetime object.\n",
    "    \n",
    "    # Calculate the time span between release date and today's date\n",
    "    time_span = datetime.now() - release_date  # calculate time span between release date and current date using datetime.now() for current date\n",
    "\n",
    "    # Calculate the weighted popularity score based on time span (e.g., more recent releases have higher weight)\n",
    "    weight = 1 / (time_span.days + 1)\n",
    "    return weight"
   ]
  },
  {
   "cell_type": "code",
   "execution_count": 11,
   "id": "128fc41d-735b-41d1-ac75-1908f5f6a60e",
   "metadata": {},
   "outputs": [],
   "source": [
    "# the idea behind the formula of the weight is that the weight decrease of a music when time span increases which means it is a older song"
   ]
  },
  {
   "cell_type": "code",
   "execution_count": 12,
   "id": "22a7e789-041b-45e5-9276-a703e44afcc7",
   "metadata": {},
   "outputs": [],
   "source": [
    "# Normalize the music features using Min-Max scaling\n",
    "scaler = MinMaxScaler()\n",
    "music_features = music_df[['Danceability', 'Energy', 'Key', \n",
    "                           'Loudness', 'Mode', 'Speechiness', 'Acousticness',\n",
    "                           'Instrumentalness', 'Liveness', 'Valence', 'Tempo']].values\n",
    "music_features_scaled = scaler.fit_transform(music_features)"
   ]
  },
  {
   "cell_type": "code",
   "execution_count": 13,
   "id": "ca706602-2934-4c9e-9c5c-764188fda608",
   "metadata": {},
   "outputs": [],
   "source": [
    "# We will build a hybrid recommendation system for our this data\n",
    "# A hybrid recommendation system is a recommendation technique that offers a complete and balanced approach by mixing two or more\n",
    "# recommendation techniques"
   ]
  },
  {
   "cell_type": "markdown",
   "id": "46c489a2-0b0c-4385-ab66-1ba7d69d3395",
   "metadata": {},
   "source": [
    "# We will generate music recommendations based on the music audio features"
   ]
  },
  {
   "cell_type": "code",
   "execution_count": 14,
   "id": "cbd053da-cf45-49d3-8494-1d841cb03fcc",
   "metadata": {},
   "outputs": [],
   "source": [
    "# a function to get content-based recommendations based on music features\n",
    "def content_based_recommendations(input_song_name, num_recommendations=5):\n",
    "    if input_song_name not in music_df['Track Name'].values:  # checks if music name exists in our music_df\n",
    "        print(f\"'{input_song_name}' not found in the dataset. Please enter a valid song name.\")\n",
    "        return\n",
    "\n",
    "    # Get the index of the input song in the music DataFrame\n",
    "    input_song_index = music_df[music_df['Track Name'] == input_song_name].index[0]\n",
    "\n",
    "    # Calculate the similarity scores based on music features (cosine similarity)\n",
    "    similarity_scores = cosine_similarity([music_features_scaled[input_song_index]], music_features_scaled)\n",
    "\n",
    "    # Get the indices of the most similar songs\n",
    "    similar_song_indices = similarity_scores.argsort()[0][::-1][1:num_recommendations + 1]\n",
    "\n",
    "    # Get the names of the most similar songs based on content-based filtering\n",
    "    content_based_recommendations = music_df.iloc[similar_song_indices][['Track Name', 'Artists', 'Album Name', 'Release Date', 'Popularity']]\n",
    "\n",
    "    return content_based_recommendations"
   ]
  },
  {
   "cell_type": "markdown",
   "id": "ef851151-0d04-4e2f-a684-3f5cc78882c4",
   "metadata": {},
   "source": [
    "# Now we will generate music recommendations based on weighted popularity and combine it with the recommendations of the content-based filtering method using the hybrid approach"
   ]
  },
  {
   "cell_type": "code",
   "execution_count": 15,
   "id": "db614cf3-c807-4ca2-b7ce-2dee59353476",
   "metadata": {},
   "outputs": [],
   "source": [
    "import pandas as pd\n",
    "\n",
    "def hybrid_recommendations(input_song_name, num_recommendations=5, alpha=0.5):\n",
    "    if input_song_name not in music_df['Track Name'].values:\n",
    "        print(f\"'{input_song_name}' not found in the dataset. Please enter a valid song name.\")\n",
    "        return\n",
    "\n",
    "    content_based_rec = content_based_recommendations(input_song_name, num_recommendations)\n",
    "\n",
    "    popularity_score = music_df.loc[music_df['Track Name'] == input_song_name, 'Popularity'].values[0]\n",
    "\n",
    "    weighted_popularity_score = popularity_score * calculate_weighted_popularity(\n",
    "        music_df.loc[music_df['Track Name'] == input_song_name, 'Release Date'].values[0]\n",
    "    )\n",
    "\n",
    "    new_entry = pd.DataFrame({\n",
    "        'Track Name': [input_song_name],\n",
    "        'Artists': [music_df.loc[music_df['Track Name'] == input_song_name, 'Artists'].values[0]],\n",
    "        'Album Name': [music_df.loc[music_df['Track Name'] == input_song_name, 'Album Name'].values[0]],\n",
    "        'Release Date': [music_df.loc[music_df['Track Name'] == input_song_name, 'Release Date'].values[0]],\n",
    "        'Popularity': [weighted_popularity_score]\n",
    "    })\n",
    "\n",
    "    hybrid_recommendations = pd.concat([content_based_rec, new_entry], ignore_index=True)\n",
    "\n",
    "    hybrid_recommendations = hybrid_recommendations.sort_values(by='Popularity', ascending=False)\n",
    "\n",
    "    hybrid_recommendations = hybrid_recommendations[hybrid_recommendations['Track Name'] != input_song_name]\n",
    "\n",
    "    return hybrid_recommendations"
   ]
  },
  {
   "cell_type": "code",
   "execution_count": 16,
   "id": "67ea5d5d-7a47-43f3-baab-8d2918d8f64e",
   "metadata": {},
   "outputs": [],
   "source": [
    "# The hybrid approach aims to provide more personalized and relevant recommendations by considering both the content similarity of songs and\n",
    "# their weighted popularity"
   ]
  },
  {
   "cell_type": "code",
   "execution_count": 17,
   "id": "5cf798ae-5315-4a5c-a18f-2c6d0b2c4973",
   "metadata": {},
   "outputs": [
    {
     "name": "stdout",
     "output_type": "stream",
     "text": [
      "Hybrid recommended songs for 'Bin Tere Sanam':\n",
      "       Track Name                                            Artists  \\\n",
      "3  Chand Sifarish    Jatin-Lalit, Shaan, Kailash Kher, Prasoon Joshi   \n",
      "2        Bin Tere  Vishal-Shekhar, Shafqat Amanat Ali, Sunidhi Ch...   \n",
      "1  Chand Se Parda                                         Kumar Sanu   \n",
      "4    Chaand Taare                                           Abhijeet   \n",
      "\n",
      "                                          Album Name Release Date  Popularity  \n",
      "3                                              Fanaa   2006-04-12        69.0  \n",
      "2  I Hate Luv Storys (Original Motion Picture Sou...   2010-05-25        63.0  \n",
      "1                                     Aao Pyar Karen   1994-11-25        58.0  \n",
      "4      Yes Boss (Original Motion Picture Soundtrack)   1999-06-18        54.0  \n"
     ]
    }
   ],
   "source": [
    "# Testing our model\n",
    "input_song_name = \"Bin Tere Sanam\"\n",
    "recommendations = hybrid_recommendations(input_song_name, num_recommendations=5)\n",
    "print(f\"Hybrid recommended songs for '{input_song_name}':\")\n",
    "print(recommendations)"
   ]
  },
  {
   "cell_type": "code",
   "execution_count": null,
   "id": "13b1f69f-0c09-4637-ac0c-11d86417e9bf",
   "metadata": {},
   "outputs": [],
   "source": []
  }
 ],
 "metadata": {
  "kernelspec": {
   "display_name": "Python 3 (ipykernel)",
   "language": "python",
   "name": "python3"
  },
  "language_info": {
   "codemirror_mode": {
    "name": "ipython",
    "version": 3
   },
   "file_extension": ".py",
   "mimetype": "text/x-python",
   "name": "python",
   "nbconvert_exporter": "python",
   "pygments_lexer": "ipython3",
   "version": "3.11.7"
  }
 },
 "nbformat": 4,
 "nbformat_minor": 5
}
